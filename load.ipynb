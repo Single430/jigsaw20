{
 "cells": [
  {
   "cell_type": "code",
   "execution_count": 1,
   "metadata": {},
   "outputs": [],
   "source": [
    "%load_ext autoreload\n",
    "%autoreload 2"
   ]
  },
  {
   "cell_type": "code",
   "execution_count": 3,
   "metadata": {},
   "outputs": [
    {
     "output_type": "stream",
     "name": "stdout",
     "text": "gcs_path: gs://hm-eu/jigsaw/tt42f3/20200606_172233_t2d\n['gs://hm-eu/jigsaw/tt42f3/20200606_172233_t2d/params0.963984.csv']\n                                                                  0\ndual                                                          False\ntpu_id                                                          t2d\nbatch_size                                                       27\nmax_len                                                         192\nseed                                                           7430\npath                                                  jigsaw/tt42f3\ngcs                                                           hm-eu\ndataset           ../input/jigsaw20-ds-tt42-35/jigsaw20_ds180102...\npooling                                                       first\noptimizer                                                      LAMB\nlr                                                      0.000124374\nmom_min                                                        0.85\nmom_max                                                        0.95\ndiv_factor                                                      100\nfinal_div_factor                                               1000\nweight_decay                                            3.63417e-07\ndropout                                                         0.2\nloss_fn                                                         bce\nlabel_smoothing                                            0.020451\nwarm_up                                                     2.44547\nepochs                                                           41\ngcs_path               gs://hm-eu/jigsaw/tt42f3/20200606_172233_t2d\nauc                                                        0.963984\nREPLICAS:  1\n"
    }
   ],
   "source": [
    "import tensorflow as tf\n",
    "from tensorflow_addons.optimizers.utils import fit_bn\n",
    "\n",
    "from train import *\n",
    "from single_model import build_model, val_np_dataset\n",
    "\n",
    "path = 'jigsaw/tt42f3/20200606_172233_t2d'\n",
    "gcs = 'hm-eu'\n",
    "tpu_id = None\n",
    "\n",
    "\n",
    "## Configuration\n",
    "#     path = f'{path}/{time.strftime(\"%Y%m%d_%H%M%S\")}_{tpu_id}'\n",
    "gcs_path = f'gs://{gcs}/{path}'\n",
    "checkpoint_path = f\"{gcs_path}/best_model.tf\"\n",
    "print('gcs_path:', gcs_path)\n",
    "# params['gcs_path'] = gcs_path\n",
    "\n",
    "\n",
    "params = tf.io.gfile.glob(f'{gcs_path}/params*.csv')\n",
    "print(params)\n",
    "params = params[0]\n",
    "params = pd.read_csv(params)\n",
    "\n",
    "kw_params = params.T[0].to_dict()\n",
    "print(params.T)\n",
    "gc.collect()\n",
    "\n",
    "# random.seed(seed)\n",
    "# np.random.seed(seed)\n",
    "# tf.random.set_seed(seed)\n",
    "# os.environ['PYTHONHASHSEED'] = str(seed)\n",
    "# os.environ['TF_DETERMINISTIC_OPS'] = '1'\n",
    "\n",
    "strategy = setup_tpu(tpu_id)"
   ]
  },
  {
   "cell_type": "code",
   "execution_count": 5,
   "metadata": {},
   "outputs": [
    {
     "output_type": "execute_result",
     "data": {
      "text/plain": "'jigsaw-tt42f3-20200606_172233_t2d'"
     },
     "metadata": {},
     "execution_count": 5
    }
   ],
   "source": [
    "code = f'{\"-\".join(gcs_path.split(\"/\")[-3:])}'\n",
    "code"
   ]
  },
  {
   "cell_type": "code",
   "execution_count": 6,
   "metadata": {},
   "outputs": [
    {
     "output_type": "stream",
     "name": "stdout",
     "text": "<tensorflow_addons.optimizers.lamb.LAMB object at 0x7f9cd4704f60>\ntotal 2,1G\n2,1G xlm-r_jigsaw-tt42f3-20200606_172233_t2d_0.9639843402865342.h5\n"
    }
   ],
   "source": [
    "ds = '../ds'\n",
    "!rm -rf {ds}\n",
    "!mkdir {ds}\n",
    "\n",
    "## Load and Train\n",
    "with strategy.scope():\n",
    "    model = build_model(**kw_params)\n",
    "    model = compile_model(model, **kw_params)\n",
    "#     model, preds, sub = train_model(model, strategy, checkpoint_path, **kw_params)\n",
    "\n",
    "# load best\n",
    "# latest = tf.train.latest_checkpoint(checkpoint_dir)\n",
    "checkpoint_path = f'{gcs_path}/best_model.tf'\n",
    "with strategy.scope():\n",
    "    model.load_weights(checkpoint_path)\n",
    "    model.save_weights(f'{ds}/xlm-r_{code}_{params[\"auc\"].values[0]}.h5')\n",
    "\n",
    "!gsutil cp {gcs_path}/*.csv {ds}\n",
    "!gsutil cp {gcs_path}/*.png {ds}\n",
    "!ls -sh {ds}"
   ]
  },
  {
   "cell_type": "code",
   "execution_count": 14,
   "metadata": {},
   "outputs": [
    {
     "output_type": "stream",
     "name": "stdout",
     "text": "{\n  \"title\": \"jigsaw-tt42f3-20200606_172233_t2d\",\n  \"id\": \"hmendonca/jigsaw-tt42f3-20200606-172233-t2d\",\n  \"licenses\": [{ \"name\": \"CC0-1.0\" }]\n}\nStarting upload for file valid_oof.csv\n100%|███████████████████████████████████████| 3.12M/3.12M [00:05<00:00, 652kB/s]\nUpload successful: valid_oof.csv (3MB)\nStarting upload for file xlm-r_jigsaw-tt42f3-20200606_172233_t2d_0.9639843402865342.h5\n100%|██████████████████████████████████████| 2.09G/2.09G [09:01<00:00, 4.14MB/s]\nUpload successful: xlm-r_jigsaw-tt42f3-20200606_172233_t2d_0.9639843402865342.h5 (2GB)\nStarting upload for file sub_hist.png\n100%|██████████████████████████████████████| 4.29k/4.29k [00:03<00:00, 1.19kB/s]\nUpload successful: sub_hist.png (4KB)\nStarting upload for file submission.csv\n100%|███████████████████████████████████████| 1.03M/1.03M [00:03<00:00, 294kB/s]\nUpload successful: submission.csv (1MB)\nStarting upload for file params0.963984.csv\n100%|████████████████████████████████████████████| 485/485 [00:03<00:00, 159B/s]\nUpload successful: params0.963984.csv (485B)\nStarting upload for file history.csv\n100%|████████████████████████████████████████| 2.55k/2.55k [00:03<00:00, 757B/s]\nUpload successful: history.csv (3KB)\nStarting upload for file valid_toxic_hist.png\n100%|██████████████████████████████████████| 5.78k/5.78k [00:02<00:00, 2.16kB/s]\nUpload successful: valid_toxic_hist.png (6KB)\nStarting upload for file history.png\n100%|██████████████████████████████████████| 30.0k/30.0k [00:03<00:00, 8.83kB/s]\nUpload successful: history.png (30KB)\nStarting upload for file valid_hist.png\n100%|██████████████████████████████████████| 6.27k/6.27k [00:03<00:00, 1.74kB/s]\nUpload successful: valid_hist.png (6KB)\nYour private Dataset is being created. Please check progress at https://www.kaggle.com/hmendonca/jigsaw-tt42f3-20200606-172233-t2d\n"
    },
    {
     "output_type": "execute_result",
     "data": {
      "text/plain": "'hmendonca/jigsaw-tt42f3-20200606-172233-t2d'"
     },
     "metadata": {},
     "execution_count": 14
    }
   ],
   "source": [
    "# url = f'hmendonca/{code[:40].replace(\"_\", \"-\")}'\n",
    "# cmd = f\"\"\"\n",
    "# cat <<EOF > {ds}/dataset-metadata.json\n",
    "# {{\n",
    "#   \"title\": \"{code}\",\n",
    "#   \"id\": \"{url}\",\n",
    "#   \"licenses\": [{{ \"name\": \"CC0-1.0\" }}]\n",
    "# }}\n",
    "# EOF\n",
    "# \"\"\"\n",
    "# !eval {cmd}\n",
    "# !cat {ds}/dataset-metadata.json\n",
    "# # !kaggle datasets version --dir-mode zip -p {ds} -m 'again'\n",
    "# !kaggle datasets create -p {ds}\n",
    "\n",
    "# url"
   ]
  },
  {
   "cell_type": "code",
   "execution_count": 6,
   "metadata": {},
   "outputs": [],
   "source": [
    "# !rm -rf {ds}"
   ]
  },
  {
   "cell_type": "code",
   "execution_count": 7,
   "metadata": {},
   "outputs": [
    {
     "name": "stdout",
     "output_type": "stream",
     "text": [
      "mean: 0.21181340632114404 ratio: 0.18001316366827555\n"
     ]
    },
    {
     "data": {
      "image/png": "[encoded data removed]",
      "text/plain": [
       "<Figure size 432x288 with 1 Axes>"
      ]
     },
     "metadata": {
      "needs_background": "light"
     },
     "output_type": "display_data"
    }
   ],
   "source": [
    "## Load Dataset\n",
    "comp_ds = '../input/jigsaw-multilingual-toxic-comment-classification'\n",
    "valid = pd.read_csv(f'{comp_ds}/validation.csv')\n",
    "#     test = pd.read_csv(f'{comp_ds}/test.csv')\n",
    "sub = pd.read_csv('../input/jigsaw20-ensemble04-29/submission.csv')\n",
    "\n",
    "sub.toxic.hist(bins=100, log=True)\n",
    "print('mean:', sub.toxic.mean(), 'ratio:', (sub.toxic > 0.5).mean())"
   ]
  },
  {
   "cell_type": "code",
   "execution_count": 8,
   "metadata": {},
   "outputs": [
    {
     "data": {
      "text/plain": [
       "24"
      ]
     },
     "execution_count": 8,
     "metadata": {},
     "output_type": "execute_result"
    }
   ],
   "source": [
    "params.loc[0, \"batch_size\"]"
   ]
  },
  {
   "cell_type": "code",
   "execution_count": 9,
   "metadata": {},
   "outputs": [
    {
     "name": "stdout",
     "output_type": "stream",
     "text": [
      "batch_size: 128\n",
      "(8000, 192) (63812, 192) (8000,)\n"
     ]
    }
   ],
   "source": [
    "batch_size = 128 #params[\"batch_size\"].values[0] * strategy.num_replicas_in_sync\n",
    "print('batch_size:', batch_size)\n",
    "\n",
    "valid_dataset, test_dataset = val_np_dataset(batch_size=batch_size)\n",
    "\n",
    "# fit_bn(model, valid_dataset)\n",
    "\n",
    "# preds = model.predict(valid_dataset, verbose=1)\n",
    "# # sub_y = model.predict(test_dataset, verbose=1)\n",
    "\n",
    "# valid['pred'] = preds\n",
    "# valid_auc = roc_auc_score(valid.toxic, valid.pred)\n",
    "# print('AUC:', valid_auc,\n",
    "#         'toxic:', valid.toxic.mean(),\n",
    "#         'pred:', valid.pred.mean(),\n",
    "#         'ratio:', (valid.pred > 0.5).mean())"
   ]
  },
  {
   "cell_type": "code",
   "execution_count": 10,
   "metadata": {},
   "outputs": [
    {
     "name": "stdout",
     "output_type": "stream",
     "text": [
      "(8000, 192) (63812, 192) (8000,)\n"
     ]
    },
    {
     "name": "stderr",
     "output_type": "stream",
     "text": [
      "/home/henrique/.local/lib/python3.6/site-packages/tensorflow/python/framework/indexed_slices.py:431: UserWarning: Converting sparse IndexedSlices to a dense Tensor with 256002048 elements. This may consume a large amount of memory.\n",
      "  num_elements)\n"
     ]
    },
    {
     "name": "stdout",
     "output_type": "stream",
     "text": [
      "499/499 [==============================] - 278s 557ms/step - auc: 0.9382 - loss: 0.2111\n"
     ]
    }
   ],
   "source": [
    "\"\"\" load npz datasets \"\"\"\n",
    "dataset = '../input/jigsaw20-val-test-ds/jigsaw20_val_ds.npz'\n",
    "array = np.load(dataset)\n",
    "x_valid, x_test, y_valid = [array[k] for k in list(array)]\n",
    "print(x_valid.shape, x_test.shape, y_valid.shape)\n",
    "\n",
    "# fit_bn(model, x_test, np.ones(len(x_test))*0.5, batch_size=28)\n",
    "\n",
    "test_dataset = (\n",
    "    tf.data.Dataset\n",
    "    .from_tensor_slices((x_test, sub.toxic.astype(np.float32)))\n",
    "    .batch(batch_size)\n",
    "#     .prefetch(tf.data.experimental.AUTOTUNE)\n",
    ")\n",
    "\n",
    "for l in model.layers:\n",
    "    l.trainable = False\n",
    "fit_bn(model, test_dataset)"
   ]
  },
  {
   "cell_type": "code",
   "execution_count": null,
   "metadata": {},
   "outputs": [],
   "source": []
  },
  {
   "cell_type": "code",
   "execution_count": 11,
   "metadata": {},
   "outputs": [
    {
     "name": "stdout",
     "output_type": "stream",
     "text": [
      "63/63 [==============================] - 16s 258ms/step\n",
      "499/499 [==============================] - 64s 128ms/step\n"
     ]
    }
   ],
   "source": [
    "preds = model.predict(valid_dataset, verbose=1)\n",
    "sub_y = model.predict(test_dataset, verbose=1)"
   ]
  },
  {
   "cell_type": "code",
   "execution_count": 12,
   "metadata": {},
   "outputs": [
    {
     "name": "stdout",
     "output_type": "stream",
     "text": [
      "AUC: 0.9626278055985877 toxic: 0.15375 pred: 0.27617186 ratio: 0.206375\n",
      "mean: 0.33239064 ratio: 0.2901021751394722\n",
      "                                                                  0\n",
      "dual                                                          False\n",
      "tpu_id                                                          t8b\n",
      "batch_size                                                       24\n",
      "max_len                                                         192\n",
      "seed                                                            178\n",
      "path                                                     jigsaw/s07\n",
      "gcs                                                        hm-eu-w4\n",
      "dataset           gs://hm-eu-w4/jigsaw/translated-distilled-ds7-...\n",
      "pooling                                                       first\n",
      "optimizer                                                      LAMB\n",
      "lr                                                      5.01214e-05\n",
      "mom_min                                                    0.836987\n",
      "mom_max                                                     0.93446\n",
      "div_factor                                                  74.1383\n",
      "final_div_factor                                            2269.16\n",
      "weight_decay                                             6.7193e-06\n",
      "dropout                                                        0.25\n",
      "loss_fn                                                       focal\n",
      "label_smoothing                                          0.00982009\n",
      "pos_weight                                                  2.16515\n",
      "gamma                                                      0.990529\n",
      "warm_up                                                     3.53954\n",
      "epochs                                                           40\n",
      "gcs_path               gs://hm-eu-w4/jigsaw/s07/20200514_004651_t8b\n",
      "auc                                                        0.962628\n"
     ]
    }
   ],
   "source": [
    "valid['pred'] = preds\n",
    "valid.to_csv(f'{gcs_path}/valid_oof_test.csv', index=False)\n",
    "\n",
    "valid.groupby('toxic').pred.hist(bins=100, log=True, alpha=0.5)\n",
    "plt.legend([0, 1])\n",
    "save_fig('valid_hist_test.png', path, gcs)\n",
    "\n",
    "valid[valid.toxic == 1].groupby('lang').pred.hist(bins=50, log=True, alpha=0.34)\n",
    "plt.legend(valid.lang.unique())\n",
    "save_fig('valid_toxic_hist_test.png', path, gcs)\n",
    "\n",
    "valid_auc = roc_auc_score(valid.toxic, valid.pred)\n",
    "print('AUC:', valid_auc,\n",
    "        'toxic:', valid.toxic.mean(),\n",
    "        'pred:', valid.pred.mean(),\n",
    "        'ratio:', (valid.pred > 0.5).mean())\n",
    "\n",
    "## Submission\n",
    "sub['toxic'] = sub_y\n",
    "sub.to_csv(f'{gcs_path}/submission_test.csv', index=False)\n",
    "\n",
    "sub.toxic.hist(bins=100, log=True)\n",
    "save_fig('sub_hist_test.png', path, gcs)\n",
    "print('mean:', sub.toxic.mean(), 'ratio:', (sub.toxic > 0.5).mean())\n",
    "#     assert sub.toxic.mean() < 0.3\n",
    "\n",
    "## Save params\n",
    "params['auc'] = valid_auc\n",
    "# params.to_csv(f'{gcs_path}/params{valid_auc:04f}.csv', index=False)\n",
    "print(params.T)"
   ]
  },
  {
   "cell_type": "code",
   "execution_count": 13,
   "metadata": {},
   "outputs": [],
   "source": [
    "sub.to_csv(f'{ds}/submission_{code}_bn_{params[\"auc\"].values[0]}.csv', index=False)\n",
    "\n",
    "model.save_weights(f'{ds}/xlm-r_{code}_bn_{params[\"auc\"].values[0]}.h5')"
   ]
  },
  {
   "cell_type": "code",
   "execution_count": 14,
   "metadata": {
    "scrolled": true
   },
   "outputs": [
    {
     "name": "stdout",
     "output_type": "stream",
     "text": [
      "submission_jigsaw-s07-20200514_004651_t8b_bn_0.9626278055985877.csv\r\n",
      "xlm-r_jigsaw-s07-20200514_004651_t8b_0.9625821114193416.h5\r\n",
      "xlm-r_jigsaw-s07-20200514_004651_t8b_bn_0.9626278055985877.h5\r\n"
     ]
    }
   ],
   "source": [
    "!ls {ds}"
   ]
  },
  {
   "cell_type": "code",
   "execution_count": 15,
   "metadata": {},
   "outputs": [],
   "source": [
    "# import pdb; pdb.pm()"
   ]
  },
  {
   "cell_type": "code",
   "execution_count": 16,
   "metadata": {},
   "outputs": [
    {
     "name": "stdout",
     "output_type": "stream",
     "text": [
      "Copying gs://hm-eu-w4/jigsaw/s07/20200514_004651_t8b/valid_toxic_hist.png...\n",
      "Copying gs://hm-eu-w4/jigsaw/s07/20200514_004651_t8b/history.png...\n",
      "Copying gs://hm-eu-w4/jigsaw/s07/20200514_004651_t8b/sub_hist.png...\n",
      "Copying gs://hm-eu-w4/jigsaw/s07/20200514_004651_t8b/valid_toxic_hist_test.png...\n",
      "Copying gs://hm-eu-w4/jigsaw/s07/20200514_004651_t8b/valid_hist.png...\n",
      "Copying gs://hm-eu-w4/jigsaw/s07/20200514_004651_t8b/valid_hist_test.png...\n",
      "Copying gs://hm-eu-w4/jigsaw/s07/20200514_004651_t8b/sub_hist_test.png...       \n",
      "/ [7/7 files][ 63.4 KiB/ 63.4 KiB] 100% Done                                    \n",
      "Operation completed over 7 objects/63.4 KiB.                                     \n"
     ]
    },
    {
     "data": {
      "image/png": "[encoded data removed]",
      "text/plain": [
       "<Figure size 432x288 with 1 Axes>"
      ]
     },
     "metadata": {
      "needs_background": "light"
     },
     "output_type": "display_data"
    },
    {
     "data": {
      "image/png": "[encoded data removed]",
      "text/plain": [
       "<Figure size 432x288 with 1 Axes>"
      ]
     },
     "metadata": {
      "needs_background": "light"
     },
     "output_type": "display_data"
    },
    {
     "data": {
      "image/png": "[encoded data removed]",
      "text/plain": [
       "<Figure size 432x288 with 1 Axes>"
      ]
     },
     "metadata": {
      "needs_background": "light"
     },
     "output_type": "display_data"
    }
   ],
   "source": [
    "!gsutil -m cp {gcs_path}/*.png .\n",
    "import matplotlib.pyplot as plt\n",
    "import matplotlib.image as mpimg\n",
    "img = mpimg.imread('sub_hist.png')\n",
    "_ = plt.imshow(img)\n",
    "plt.show()\n",
    "img = mpimg.imread('valid_hist.png')\n",
    "_ = plt.imshow(img)\n",
    "plt.show()\n",
    "img = mpimg.imread('valid_toxic_hist.png')\n",
    "_ = plt.imshow(img)"
   ]
  },
  {
   "cell_type": "code",
   "execution_count": 17,
   "metadata": {},
   "outputs": [
    {
     "data": {
      "image/png": "[encoded data removed]",
      "text/plain": [
       "<Figure size 432x288 with 1 Axes>"
      ]
     },
     "metadata": {
      "needs_background": "light"
     },
     "output_type": "display_data"
    },
    {
     "data": {
      "image/png": "[encoded data removed]",
      "text/plain": [
       "<Figure size 432x288 with 1 Axes>"
      ]
     },
     "metadata": {
      "needs_background": "light"
     },
     "output_type": "display_data"
    },
    {
     "data": {
      "image/png": "[encoded data removed]",
      "text/plain": [
       "<Figure size 432x288 with 1 Axes>"
      ]
     },
     "metadata": {
      "needs_background": "light"
     },
     "output_type": "display_data"
    }
   ],
   "source": [
    "import matplotlib.pyplot as plt\n",
    "import matplotlib.image as mpimg\n",
    "img = mpimg.imread('sub_hist_test.png')\n",
    "_ = plt.imshow(img)\n",
    "plt.show()\n",
    "img = mpimg.imread('valid_hist_test.png')\n",
    "_ = plt.imshow(img)\n",
    "plt.show()\n",
    "img = mpimg.imread('valid_toxic_hist_test.png')\n",
    "_ = plt.imshow(img)"
   ]
  }
 ],
 "metadata": {
  "kernelspec": {
   "display_name": "Python 3.6.9 64-bit",
   "language": "python",
   "name": "python36964bitb41224161e764f2fb3308e8a9b48b35a"
  },
  "language_info": {
   "codemirror_mode": {
    "name": "ipython",
    "version": 3
   },
   "file_extension": ".py",
   "mimetype": "text/x-python",
   "name": "python",
   "nbconvert_exporter": "python",
   "pygments_lexer": "ipython3",
   "version": "3.6.9-final"
  },
  "widgets": {
   "application/vnd.jupyter.widget-state+json": {
    "state": {
     "03df225fb40c4a3cbddfdb6beddb0e4b": {
      "model_module": "@jupyter-widgets/controls",
      "model_module_version": "1.5.0",
      "model_name": "DescriptionStyleModel",
      "state": {
       "_model_module": "@jupyter-widgets/controls",
       "_model_module_version": "1.5.0",
       "_model_name": "DescriptionStyleModel",
       "_view_count": null,
       "_view_module": "@jupyter-widgets/base",
       "_view_module_version": "1.2.0",
       "_view_name": "StyleView",
       "description_width": ""
      }
     },
     "15ada43973ce43deabc26c111bc346e6": {
      "model_module": "@jupyter-widgets/base",
      "model_module_version": "1.2.0",
      "model_name": "LayoutModel",
      "state": {
       "_model_module": "@jupyter-widgets/base",
       "_model_module_version": "1.2.0",
       "_model_name": "LayoutModel",
       "_view_count": null,
       "_view_module": "@jupyter-widgets/base",
       "_view_module_version": "1.2.0",
       "_view_name": "LayoutView",
       "align_content": null,
       "align_items": null,
       "align_self": null,
       "border": null,
       "bottom": null,
       "display": null,
       "flex": null,
       "flex_flow": null,
       "grid_area": null,
       "grid_auto_columns": null,
       "grid_auto_flow": null,
       "grid_auto_rows": null,
       "grid_column": null,
       "grid_gap": null,
       "grid_row": null,
       "grid_template_areas": null,
       "grid_template_columns": null,
       "grid_template_rows": null,
       "height": null,
       "justify_content": null,
       "justify_items": null,
       "left": null,
       "margin": null,
       "max_height": null,
       "max_width": null,
       "min_height": null,
       "min_width": null,
       "object_fit": null,
       "object_position": null,
       "order": null,
       "overflow": null,
       "overflow_x": null,
       "overflow_y": null,
       "padding": null,
       "right": null,
       "top": null,
       "visibility": null,
       "width": null
      }
     },
     "1ec7dd5ce7e04e4184f5c16e9d410e3b": {
      "model_module": "@jupyter-widgets/controls",
      "model_module_version": "1.5.0",
      "model_name": "ProgressStyleModel",
      "state": {
       "_model_module": "@jupyter-widgets/controls",
       "_model_module_version": "1.5.0",
       "_model_name": "ProgressStyleModel",
       "_view_count": null,
       "_view_module": "@jupyter-widgets/base",
       "_view_module_version": "1.2.0",
       "_view_name": "StyleView",
       "bar_color": null,
       "description_width": "initial"
      }
     },
     "23976f077e8c4855af1a1cfe193b60ef": {
      "model_module": "@jupyter-widgets/controls",
      "model_module_version": "1.5.0",
      "model_name": "HTMLModel",
      "state": {
       "_dom_classes": [],
       "_model_module": "@jupyter-widgets/controls",
       "_model_module_version": "1.5.0",
       "_model_name": "HTMLModel",
       "_view_count": null,
       "_view_module": "@jupyter-widgets/controls",
       "_view_module_version": "1.5.0",
       "_view_name": "HTMLView",
       "description": "",
       "description_tooltip": null,
       "layout": "IPY_MODEL_3fbc3a0e6fb14d8085d98270ec4b33b2",
       "placeholder": "​",
       "style": "IPY_MODEL_2a65d9d5af90464aa718587f9a121a1c",
       "value": " 5.07M/5.07M [00:01&lt;00:00, 2.89MB/s]"
      }
     },
     "2a65d9d5af90464aa718587f9a121a1c": {
      "model_module": "@jupyter-widgets/controls",
      "model_module_version": "1.5.0",
      "model_name": "DescriptionStyleModel",
      "state": {
       "_model_module": "@jupyter-widgets/controls",
       "_model_module_version": "1.5.0",
       "_model_name": "DescriptionStyleModel",
       "_view_count": null,
       "_view_module": "@jupyter-widgets/base",
       "_view_module_version": "1.2.0",
       "_view_name": "StyleView",
       "description_width": ""
      }
     },
     "3e88f3383ac8472faef99555f2eb3cec": {
      "model_module": "@jupyter-widgets/controls",
      "model_module_version": "1.5.0",
      "model_name": "ProgressStyleModel",
      "state": {
       "_model_module": "@jupyter-widgets/controls",
       "_model_module_version": "1.5.0",
       "_model_name": "ProgressStyleModel",
       "_view_count": null,
       "_view_module": "@jupyter-widgets/base",
       "_view_module_version": "1.2.0",
       "_view_name": "StyleView",
       "bar_color": null,
       "description_width": "initial"
      }
     },
     "3fbc3a0e6fb14d8085d98270ec4b33b2": {
      "model_module": "@jupyter-widgets/base",
      "model_module_version": "1.2.0",
      "model_name": "LayoutModel",
      "state": {
       "_model_module": "@jupyter-widgets/base",
       "_model_module_version": "1.2.0",
       "_model_name": "LayoutModel",
       "_view_count": null,
       "_view_module": "@jupyter-widgets/base",
       "_view_module_version": "1.2.0",
       "_view_name": "LayoutView",
       "align_content": null,
       "align_items": null,
       "align_self": null,
       "border": null,
       "bottom": null,
       "display": null,
       "flex": null,
       "flex_flow": null,
       "grid_area": null,
       "grid_auto_columns": null,
       "grid_auto_flow": null,
       "grid_auto_rows": null,
       "grid_column": null,
       "grid_gap": null,
       "grid_row": null,
       "grid_template_areas": null,
       "grid_template_columns": null,
       "grid_template_rows": null,
       "height": null,
       "justify_content": null,
       "justify_items": null,
       "left": null,
       "margin": null,
       "max_height": null,
       "max_width": null,
       "min_height": null,
       "min_width": null,
       "object_fit": null,
       "object_position": null,
       "order": null,
       "overflow": null,
       "overflow_x": null,
       "overflow_y": null,
       "padding": null,
       "right": null,
       "top": null,
       "visibility": null,
       "width": null
      }
     },
     "4a4e5352a8714816a1eb15d297ef2077": {
      "model_module": "@jupyter-widgets/controls",
      "model_module_version": "1.5.0",
      "model_name": "FloatProgressModel",
      "state": {
       "_dom_classes": [],
       "_model_module": "@jupyter-widgets/controls",
       "_model_module_version": "1.5.0",
       "_model_name": "FloatProgressModel",
       "_view_count": null,
       "_view_module": "@jupyter-widgets/controls",
       "_view_module_version": "1.5.0",
       "_view_name": "ProgressView",
       "bar_style": "success",
       "description": "Downloading: 100%",
       "description_tooltip": null,
       "layout": "IPY_MODEL_6481a898fe2e4e52bafb7bda11c7a9c6",
       "max": 5069051,
       "min": 0,
       "orientation": "horizontal",
       "style": "IPY_MODEL_3e88f3383ac8472faef99555f2eb3cec",
       "value": 5069051
      }
     },
     "5bbd64c445e149a1894b2f195c93ed6c": {
      "model_module": "@jupyter-widgets/controls",
      "model_module_version": "1.5.0",
      "model_name": "FloatProgressModel",
      "state": {
       "_dom_classes": [],
       "_model_module": "@jupyter-widgets/controls",
       "_model_module_version": "1.5.0",
       "_model_name": "FloatProgressModel",
       "_view_count": null,
       "_view_module": "@jupyter-widgets/controls",
       "_view_module_version": "1.5.0",
       "_view_name": "ProgressView",
       "bar_style": "success",
       "description": "Downloading: 100%",
       "description_tooltip": null,
       "layout": "IPY_MODEL_d73ea71b0f6f4970a15b4f60b4ce8c56",
       "max": 738,
       "min": 0,
       "orientation": "horizontal",
       "style": "IPY_MODEL_1ec7dd5ce7e04e4184f5c16e9d410e3b",
       "value": 738
      }
     },
     "5eb82dd559dd49a2bdd9078f0289f13a": {
      "model_module": "@jupyter-widgets/controls",
      "model_module_version": "1.5.0",
      "model_name": "FloatProgressModel",
      "state": {
       "_dom_classes": [],
       "_model_module": "@jupyter-widgets/controls",
       "_model_module_version": "1.5.0",
       "_model_name": "FloatProgressModel",
       "_view_count": null,
       "_view_module": "@jupyter-widgets/controls",
       "_view_module_version": "1.5.0",
       "_view_name": "ProgressView",
       "bar_style": "success",
       "description": "Downloading: 100%",
       "description_tooltip": null,
       "layout": "IPY_MODEL_e39f3a70f25841049ddde333e84f9b2f",
       "max": 3271420488,
       "min": 0,
       "orientation": "horizontal",
       "style": "IPY_MODEL_a2cbb4062d314b7faff832f5eab5cce6",
       "value": 3271420488
      }
     },
     "6481a898fe2e4e52bafb7bda11c7a9c6": {
      "model_module": "@jupyter-widgets/base",
      "model_module_version": "1.2.0",
      "model_name": "LayoutModel",
      "state": {
       "_model_module": "@jupyter-widgets/base",
       "_model_module_version": "1.2.0",
       "_model_name": "LayoutModel",
       "_view_count": null,
       "_view_module": "@jupyter-widgets/base",
       "_view_module_version": "1.2.0",
       "_view_name": "LayoutView",
       "align_content": null,
       "align_items": null,
       "align_self": null,
       "border": null,
       "bottom": null,
       "display": null,
       "flex": null,
       "flex_flow": null,
       "grid_area": null,
       "grid_auto_columns": null,
       "grid_auto_flow": null,
       "grid_auto_rows": null,
       "grid_column": null,
       "grid_gap": null,
       "grid_row": null,
       "grid_template_areas": null,
       "grid_template_columns": null,
       "grid_template_rows": null,
       "height": null,
       "justify_content": null,
       "justify_items": null,
       "left": null,
       "margin": null,
       "max_height": null,
       "max_width": null,
       "min_height": null,
       "min_width": null,
       "object_fit": null,
       "object_position": null,
       "order": null,
       "overflow": null,
       "overflow_x": null,
       "overflow_y": null,
       "padding": null,
       "right": null,
       "top": null,
       "visibility": null,
       "width": null
      }
     },
     "6b45213384a34a549bd24c55d6e4b583": {
      "model_module": "@jupyter-widgets/base",
      "model_module_version": "1.2.0",
      "model_name": "LayoutModel",
      "state": {
       "_model_module": "@jupyter-widgets/base",
       "_model_module_version": "1.2.0",
       "_model_name": "LayoutModel",
       "_view_count": null,
       "_view_module": "@jupyter-widgets/base",
       "_view_module_version": "1.2.0",
       "_view_name": "LayoutView",
       "align_content": null,
       "align_items": null,
       "align_self": null,
       "border": null,
       "bottom": null,
       "display": null,
       "flex": null,
       "flex_flow": null,
       "grid_area": null,
       "grid_auto_columns": null,
       "grid_auto_flow": null,
       "grid_auto_rows": null,
       "grid_column": null,
       "grid_gap": null,
       "grid_row": null,
       "grid_template_areas": null,
       "grid_template_columns": null,
       "grid_template_rows": null,
       "height": null,
       "justify_content": null,
       "justify_items": null,
       "left": null,
       "margin": null,
       "max_height": null,
       "max_width": null,
       "min_height": null,
       "min_width": null,
       "object_fit": null,
       "object_position": null,
       "order": null,
       "overflow": null,
       "overflow_x": null,
       "overflow_y": null,
       "padding": null,
       "right": null,
       "top": null,
       "visibility": null,
       "width": null
      }
     },
     "76625d00261a4c16b05a29bd9885e7ac": {
      "model_module": "@jupyter-widgets/controls",
      "model_module_version": "1.5.0",
      "model_name": "HTMLModel",
      "state": {
       "_dom_classes": [],
       "_model_module": "@jupyter-widgets/controls",
       "_model_module_version": "1.5.0",
       "_model_name": "HTMLModel",
       "_view_count": null,
       "_view_module": "@jupyter-widgets/controls",
       "_view_module_version": "1.5.0",
       "_view_name": "HTMLView",
       "description": "",
       "description_tooltip": null,
       "layout": "IPY_MODEL_b4adcdd0fb934b4e8b0f7efbef525f64",
       "placeholder": "​",
       "style": "IPY_MODEL_03df225fb40c4a3cbddfdb6beddb0e4b",
       "value": " 3.27G/3.27G [01:26&lt;00:00, 37.7MB/s]"
      }
     },
     "7d865efc6e0f4be886075b93553f8a0d": {
      "model_module": "@jupyter-widgets/controls",
      "model_module_version": "1.5.0",
      "model_name": "DescriptionStyleModel",
      "state": {
       "_model_module": "@jupyter-widgets/controls",
       "_model_module_version": "1.5.0",
       "_model_name": "DescriptionStyleModel",
       "_view_count": null,
       "_view_module": "@jupyter-widgets/base",
       "_view_module_version": "1.2.0",
       "_view_name": "StyleView",
       "description_width": ""
      }
     },
     "9b6585770d8e4a83a6be952a064cc4dd": {
      "model_module": "@jupyter-widgets/base",
      "model_module_version": "1.2.0",
      "model_name": "LayoutModel",
      "state": {
       "_model_module": "@jupyter-widgets/base",
       "_model_module_version": "1.2.0",
       "_model_name": "LayoutModel",
       "_view_count": null,
       "_view_module": "@jupyter-widgets/base",
       "_view_module_version": "1.2.0",
       "_view_name": "LayoutView",
       "align_content": null,
       "align_items": null,
       "align_self": null,
       "border": null,
       "bottom": null,
       "display": null,
       "flex": null,
       "flex_flow": null,
       "grid_area": null,
       "grid_auto_columns": null,
       "grid_auto_flow": null,
       "grid_auto_rows": null,
       "grid_column": null,
       "grid_gap": null,
       "grid_row": null,
       "grid_template_areas": null,
       "grid_template_columns": null,
       "grid_template_rows": null,
       "height": null,
       "justify_content": null,
       "justify_items": null,
       "left": null,
       "margin": null,
       "max_height": null,
       "max_width": null,
       "min_height": null,
       "min_width": null,
       "object_fit": null,
       "object_position": null,
       "order": null,
       "overflow": null,
       "overflow_x": null,
       "overflow_y": null,
       "padding": null,
       "right": null,
       "top": null,
       "visibility": null,
       "width": null
      }
     },
     "a2cbb4062d314b7faff832f5eab5cce6": {
      "model_module": "@jupyter-widgets/controls",
      "model_module_version": "1.5.0",
      "model_name": "ProgressStyleModel",
      "state": {
       "_model_module": "@jupyter-widgets/controls",
       "_model_module_version": "1.5.0",
       "_model_name": "ProgressStyleModel",
       "_view_count": null,
       "_view_module": "@jupyter-widgets/base",
       "_view_module_version": "1.2.0",
       "_view_name": "StyleView",
       "bar_color": null,
       "description_width": "initial"
      }
     },
     "b4adcdd0fb934b4e8b0f7efbef525f64": {
      "model_module": "@jupyter-widgets/base",
      "model_module_version": "1.2.0",
      "model_name": "LayoutModel",
      "state": {
       "_model_module": "@jupyter-widgets/base",
       "_model_module_version": "1.2.0",
       "_model_name": "LayoutModel",
       "_view_count": null,
       "_view_module": "@jupyter-widgets/base",
       "_view_module_version": "1.2.0",
       "_view_name": "LayoutView",
       "align_content": null,
       "align_items": null,
       "align_self": null,
       "border": null,
       "bottom": null,
       "display": null,
       "flex": null,
       "flex_flow": null,
       "grid_area": null,
       "grid_auto_columns": null,
       "grid_auto_flow": null,
       "grid_auto_rows": null,
       "grid_column": null,
       "grid_gap": null,
       "grid_row": null,
       "grid_template_areas": null,
       "grid_template_columns": null,
       "grid_template_rows": null,
       "height": null,
       "justify_content": null,
       "justify_items": null,
       "left": null,
       "margin": null,
       "max_height": null,
       "max_width": null,
       "min_height": null,
       "min_width": null,
       "object_fit": null,
       "object_position": null,
       "order": null,
       "overflow": null,
       "overflow_x": null,
       "overflow_y": null,
       "padding": null,
       "right": null,
       "top": null,
       "visibility": null,
       "width": null
      }
     },
     "b56982b3e6e945b98bb6ceff75718713": {
      "model_module": "@jupyter-widgets/controls",
      "model_module_version": "1.5.0",
      "model_name": "HBoxModel",
      "state": {
       "_dom_classes": [],
       "_model_module": "@jupyter-widgets/controls",
       "_model_module_version": "1.5.0",
       "_model_name": "HBoxModel",
       "_view_count": null,
       "_view_module": "@jupyter-widgets/controls",
       "_view_module_version": "1.5.0",
       "_view_name": "HBoxView",
       "box_style": "",
       "children": [
        "IPY_MODEL_4a4e5352a8714816a1eb15d297ef2077",
        "IPY_MODEL_23976f077e8c4855af1a1cfe193b60ef"
       ],
       "layout": "IPY_MODEL_9b6585770d8e4a83a6be952a064cc4dd"
      }
     },
     "cd0d1db27650445485ab49e819c306b9": {
      "model_module": "@jupyter-widgets/controls",
      "model_module_version": "1.5.0",
      "model_name": "HTMLModel",
      "state": {
       "_dom_classes": [],
       "_model_module": "@jupyter-widgets/controls",
       "_model_module_version": "1.5.0",
       "_model_name": "HTMLModel",
       "_view_count": null,
       "_view_module": "@jupyter-widgets/controls",
       "_view_module_version": "1.5.0",
       "_view_name": "HTMLView",
       "description": "",
       "description_tooltip": null,
       "layout": "IPY_MODEL_f4961b04478b45c48a12189728bf82a7",
       "placeholder": "​",
       "style": "IPY_MODEL_7d865efc6e0f4be886075b93553f8a0d",
       "value": " 738/738 [00:22&lt;00:00, 32.8B/s]"
      }
     },
     "ceb3bf5654dc4ab7aaab33ce7fcfa136": {
      "model_module": "@jupyter-widgets/controls",
      "model_module_version": "1.5.0",
      "model_name": "HBoxModel",
      "state": {
       "_dom_classes": [],
       "_model_module": "@jupyter-widgets/controls",
       "_model_module_version": "1.5.0",
       "_model_name": "HBoxModel",
       "_view_count": null,
       "_view_module": "@jupyter-widgets/controls",
       "_view_module_version": "1.5.0",
       "_view_name": "HBoxView",
       "box_style": "",
       "children": [
        "IPY_MODEL_5bbd64c445e149a1894b2f195c93ed6c",
        "IPY_MODEL_cd0d1db27650445485ab49e819c306b9"
       ],
       "layout": "IPY_MODEL_6b45213384a34a549bd24c55d6e4b583"
      }
     },
     "d73ea71b0f6f4970a15b4f60b4ce8c56": {
      "model_module": "@jupyter-widgets/base",
      "model_module_version": "1.2.0",
      "model_name": "LayoutModel",
      "state": {
       "_model_module": "@jupyter-widgets/base",
       "_model_module_version": "1.2.0",
       "_model_name": "LayoutModel",
       "_view_count": null,
       "_view_module": "@jupyter-widgets/base",
       "_view_module_version": "1.2.0",
       "_view_name": "LayoutView",
       "align_content": null,
       "align_items": null,
       "align_self": null,
       "border": null,
       "bottom": null,
       "display": null,
       "flex": null,
       "flex_flow": null,
       "grid_area": null,
       "grid_auto_columns": null,
       "grid_auto_flow": null,
       "grid_auto_rows": null,
       "grid_column": null,
       "grid_gap": null,
       "grid_row": null,
       "grid_template_areas": null,
       "grid_template_columns": null,
       "grid_template_rows": null,
       "height": null,
       "justify_content": null,
       "justify_items": null,
       "left": null,
       "margin": null,
       "max_height": null,
       "max_width": null,
       "min_height": null,
       "min_width": null,
       "object_fit": null,
       "object_position": null,
       "order": null,
       "overflow": null,
       "overflow_x": null,
       "overflow_y": null,
       "padding": null,
       "right": null,
       "top": null,
       "visibility": null,
       "width": null
      }
     },
     "deb54208870b488999cc305ae36d2560": {
      "model_module": "@jupyter-widgets/controls",
      "model_module_version": "1.5.0",
      "model_name": "HBoxModel",
      "state": {
       "_dom_classes": [],
       "_model_module": "@jupyter-widgets/controls",
       "_model_module_version": "1.5.0",
       "_model_name": "HBoxModel",
       "_view_count": null,
       "_view_module": "@jupyter-widgets/controls",
       "_view_module_version": "1.5.0",
       "_view_name": "HBoxView",
       "box_style": "",
       "children": [
        "IPY_MODEL_5eb82dd559dd49a2bdd9078f0289f13a",
        "IPY_MODEL_76625d00261a4c16b05a29bd9885e7ac"
       ],
       "layout": "IPY_MODEL_15ada43973ce43deabc26c111bc346e6"
      }
     },
     "e39f3a70f25841049ddde333e84f9b2f": {
      "model_module": "@jupyter-widgets/base",
      "model_module_version": "1.2.0",
      "model_name": "LayoutModel",
      "state": {
       "_model_module": "@jupyter-widgets/base",
       "_model_module_version": "1.2.0",
       "_model_name": "LayoutModel",
       "_view_count": null,
       "_view_module": "@jupyter-widgets/base",
       "_view_module_version": "1.2.0",
       "_view_name": "LayoutView",
       "align_content": null,
       "align_items": null,
       "align_self": null,
       "border": null,
       "bottom": null,
       "display": null,
       "flex": null,
       "flex_flow": null,
       "grid_area": null,
       "grid_auto_columns": null,
       "grid_auto_flow": null,
       "grid_auto_rows": null,
       "grid_column": null,
       "grid_gap": null,
       "grid_row": null,
       "grid_template_areas": null,
       "grid_template_columns": null,
       "grid_template_rows": null,
       "height": null,
       "justify_content": null,
       "justify_items": null,
       "left": null,
       "margin": null,
       "max_height": null,
       "max_width": null,
       "min_height": null,
       "min_width": null,
       "object_fit": null,
       "object_position": null,
       "order": null,
       "overflow": null,
       "overflow_x": null,
       "overflow_y": null,
       "padding": null,
       "right": null,
       "top": null,
       "visibility": null,
       "width": null
      }
     },
     "f4961b04478b45c48a12189728bf82a7": {
      "model_module": "@jupyter-widgets/base",
      "model_module_version": "1.2.0",
      "model_name": "LayoutModel",
      "state": {
       "_model_module": "@jupyter-widgets/base",
       "_model_module_version": "1.2.0",
       "_model_name": "LayoutModel",
       "_view_count": null,
       "_view_module": "@jupyter-widgets/base",
       "_view_module_version": "1.2.0",
       "_view_name": "LayoutView",
       "align_content": null,
       "align_items": null,
       "align_self": null,
       "border": null,
       "bottom": null,
       "display": null,
       "flex": null,
       "flex_flow": null,
       "grid_area": null,
       "grid_auto_columns": null,
       "grid_auto_flow": null,
       "grid_auto_rows": null,
       "grid_column": null,
       "grid_gap": null,
       "grid_row": null,
       "grid_template_areas": null,
       "grid_template_columns": null,
       "grid_template_rows": null,
       "height": null,
       "justify_content": null,
       "justify_items": null,
       "left": null,
       "margin": null,
       "max_height": null,
       "max_width": null,
       "min_height": null,
       "min_width": null,
       "object_fit": null,
       "object_position": null,
       "order": null,
       "overflow": null,
       "overflow_x": null,
       "overflow_y": null,
       "padding": null,
       "right": null,
       "top": null,
       "visibility": null,
       "width": null
      }
     }
    },
    "version_major": 2,
    "version_minor": 0
   }
  }
 },
 "nbformat": 4,
 "nbformat_minor": 4
}